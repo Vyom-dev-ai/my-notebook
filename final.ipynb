{
  "cells": [
    {
      "cell_type": "code",
      "execution_count": null,
      "id": "823cfe88",
      "metadata": {},
      "outputs": [],
      "source": [
        "1)\n",
        "\n",
        "sample3=data3.sample(n=2861,random_state=417)\n",
        "onehtencd= pd.get_dummies(sample3[\"genhlth\"])\n",
        "sample3=sample3.join(onehtencd)\n",
        "sample3.iloc[1686]\n",
        "\n",
        "2)sample4=data3.sample(n=2803,random_state=130)\n",
        "mapping={'good':6, 'very good':11, 'excellent':22, 'fair':32, 'poor':49}\n",
        "sample4.genhlth=sample4.genhlth.map(mapping)##so here it is replacing numbers with values that is mapping nos with values for eg 1153 which we find it is rplacing very good with 11\n",
        "sample4.iloc[1153]\n",
        "\n",
        "3)\n",
        "# With using sklearn\n",
        "\n",
        "from sklearn.metrics import mean_squared_error\n",
        "mse=mean_squared_error(preds,y)\n",
        "mse\n",
        "\n",
        "# With using sklearn\n",
        "\n",
        "from sklearn.metrics import mean_squared_error\n",
        "mae=mean_absolute_error(preds,y)\n",
        "mse\n",
        "\n",
        "# wothpout sklear(mse)\n",
        "mse=np.sum((y-preds)**2)/len(y)\n",
        "mse\n",
        "\n",
        "#without sklearn(rmse)\n",
        "mae=np.sum((y-preds)**2)/len(y)\n",
        "mae\n",
        "rmse=np.sqrt(mae)\n",
        "rmse"
      ]
    },
    {
      "cell_type": "code",
      "execution_count": null,
      "id": "afa5af4d",
      "metadata": {},
      "outputs": [],
      "source": [
        "import requests\n",
        "\n",
        "# Load the script from GitHub and run it\n",
        "exec(requests.get(\"https://raw.githubusercontent.com/VaibhavUS/my-notebook/main/req.py\").text)\n",
        "prompt = \"\"\"What is the main purpose of using a validation set during model training?\n",
        "\n",
        "a) To increase the size of the training data\n",
        "b) To test the model after deployment\n",
        "c) To fine-tune model hyperparameters\n",
        "d) To reduce the model training time\"\"\"\n",
        "\n",
        "response = ask(prompt)\n",
        "print(\"Ans:\", response)"
      ]
    }
  ],
  "metadata": {
    "colab": {
      "provenance": []
    },
    "kernelspec": {
      "display_name": "Python 3",
      "language": "python",
      "name": "python3"
    },
    "language_info": {
      "codemirror_mode": {
        "name": "ipython",
        "version": 3
      },
      "file_extension": ".py",
      "mimetype": "text/x-python",
      "name": "python",
      "nbconvert_exporter": "python",
      "pygments_lexer": "ipython3",
      "version": "3.12.6"
    }
  },
  "nbformat": 4,
  "nbformat_minor": 5
}
