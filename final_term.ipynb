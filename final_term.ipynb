{
  "cells": [
    {
      "cell_type": "code",
      "execution_count": null,
      "id": "7c4d21dc",
      "metadata": {},
      "outputs": [],
      "source": [
        "#geometric distribution\n"
      ]
    },
    {
      "cell_type": "code",
      "execution_count": null,
      "id": "85351b17",
      "metadata": {},
      "outputs": [],
      "source": [
        "#negetive binomial distribution"
      ]
    },
    {
      "cell_type": "code",
      "execution_count": null,
      "id": "6a0d89f3",
      "metadata": {},
      "outputs": [],
      "source": []
    },
    {
      "cell_type": "code",
      "execution_count": null,
      "id": "27302000",
      "metadata": {},
      "outputs": [],
      "source": []
    },
    {
      "cell_type": "markdown",
      "id": "c87f571e",
      "metadata": {},
      "source": [
        "#build confidence interval\n",
        "Step 1: Compute Standard Error (SE)\n",
        "SE=p^(1−p^)/n=0.68⋅(1−0.68)/850\n",
        "\n",
        "​=8500.68⋅(1−0.68)​\n",
        "​\n",
        "=0.68⋅0.32850=0.2176850≈0.000256≈0.016\n",
        "=8500.68⋅0.32​\n",
        "​=8500.2176​\n",
        "​≈0.000256\n",
        "​≈0.016\n",
        "Step 2: Compute Margin of Error (ME)\n",
        "ME=z∗⋅SE=1.96⋅0.016=0.0314\n",
        "ME=z∗⋅SE=1.96⋅0.016=0.0314\n",
        "Step 3: Construct Confidence Interval\n",
        "p^±ME=0.68±0.0314\n",
        "p^​±ME=0.68±0.0314\n",
        "Confidence Interval=(0.6486,0.7114)\n",
        "Confidence Interval=(0.6486,0.7114)\n",
        "Final Answer:\n",
        "\n",
        "The 95% confidence interval is:\n",
        "(0.649, 0.711)(rounded to 3 decimal places)\n",
        "(0.649, 0.711)​"
      ]
    },
    {
      "cell_type": "markdown",
      "id": "2de29660",
      "metadata": {},
      "source": [
        "#claim using confidence interval\n",
        "6. A company survey of 750 employees found that 85% were satisfied with their job. \n",
        "The margin of error at 95% confidence is ±4.9%. \n",
        "The company states in a report: \"At least 80% of our employees are satisfied with \n",
        "their job.\" \n",
        "At 95% confidence, using the confidence interval approach, is this statement \n",
        "justified? \n",
        "• \n",
        "p ̂  = 0.85 \n",
        "• MOE = 0.049 \n",
        "• Claim: \"At least 80% are satisfied\" \n",
        "CI = 0.85 ± 0.049 = [0.801, 0.899] \n",
        "Conclusion: Entire CI is above 0.80 \n",
        "Claim is Justified."
      ]
    },
    {
      "cell_type": "markdown",
      "id": "94aee38b",
      "metadata": {},
      "source": [
        "#hypothesis testing using p value\n",
        "\n",
        "A survey of 1,200 voters found that 48% approve of a certain political leader. The \n",
        "margin of error at 95% confidence is ±2.5%. A news report states: \"A majority of \n",
        "voters approve of the leader.\" At 95% confidence, using the p_value approach, is \n",
        "this statement justified? \n",
        "• Null hypothesis (H₀): p ≤ 0.5 (50% or fewer approve) \n",
        "• Alternative hypothesis (H₁): p > 0.5 (more than 50% approve) \n",
        "• Sample proportion (\n",
        " p ̂\n",
        " • Sample size (n): 1200 \n",
        "): 0.48 \n",
        "• Standard error (SE): √[0.5×0.5/1200] ≈ 0.0144 \n",
        "• z = (0.48 - 0.5)/0.0144 ≈ -1.39 \n",
        "• p-value: P(Z > -1.39) ≈ 0.9177 (we're testing one-tailed for p > 0.5, so P(Z > 1.39) = \n",
        "0.0823) \n",
        "• Decision: p-value > 0.05 → Fail to reject H₀ \n",
        "• Conclusion: Not justified"
      ]
    },
    {
      "cell_type": "markdown",
      "id": "1af89338",
      "metadata": {},
      "source": [
        "#hypothesis testing using CI\n",
        "\n"
      ]
    },
    {
      "cell_type": "code",
      "execution_count": 3,
      "id": "ed2b1a3b",
      "metadata": {},
      "outputs": [
        {
          "data": {
            "text/plain": [
              "np.float64(0.6700314463394064)"
            ]
          },
          "execution_count": 3,
          "metadata": {},
          "output_type": "execute_result"
        }
      ],
      "source": [
        "from scipy.stats import norm\n",
        "left=norm.cdf(0.44)\n",
        "left"
      ]
    },
    {
      "cell_type": "code",
      "execution_count": 6,
      "id": "dc819dca",
      "metadata": {},
      "outputs": [
        {
          "data": {
            "text/plain": [
              "np.float64(0.8283677140534138)"
            ]
          },
          "execution_count": 6,
          "metadata": {},
          "output_type": "execute_result"
        }
      ],
      "source": [
        "from scipy.stats import t\n",
        "df=199\n",
        "right=t.cdf(0.95,df)\n",
        "right"
      ]
    },
    {
      "cell_type": "code",
      "execution_count": 7,
      "id": "558f650d",
      "metadata": {},
      "outputs": [
        {
          "data": {
            "text/plain": [
              "np.float64(0.9962558402574364)"
            ]
          },
          "execution_count": 7,
          "metadata": {},
          "output_type": "execute_result"
        }
      ],
      "source": [
        "from scipy.stats import t\n",
        "df=49\n",
        "right=t.cdf(2.79,df)\n",
        "right"
      ]
    },
    {
      "cell_type": "markdown",
      "id": "f9087ac2",
      "metadata": {},
      "source": [
        "anova\n",
        "\n",
        "a=no of columns\n",
        "n=no of rows\n",
        "N=no of cells\n",
        "\n",
        "df between=a-1(a is no of colums)\n",
        "df within=N-a(N is total values or cells all)\n",
        "df total=N-1\n",
        "\n",
        "fstatistic=mean square between groupor level/mean square within group level\n",
        "\n",
        "msbetween=sum of square between group/degree of freedom between group\n",
        "\n",
        "ms within=sum of square within group/degree of freedom withi group\n",
        "\n",
        "\n",
        "\n",
        "\n",
        "sum of square between group=summision of(summision ai)^2/n - T^2/N\n",
        "\n",
        "summision mg15=(1)+(2)+(3)=6\n",
        "summision mg30=(11)+(12)+(13)=16\n",
        "summision mg15=(21)+(22)+(23)=45\n",
        "\n",
        "summison of (Eai)^2=(6)^2+(15)^2+(24)^2\n",
        "\n",
        "\n",
        "T^2 is equal to E(Eai)=6+16+45(not square)\n",
        "\n",
        "\n",
        "\n",
        "sum of sqyare within group=summision of y^2-summision of (summision ai)^2/n where y is all the values in group\n",
        "\n",
        "\n",
        "sum of square within group="
      ]
    },
    {
      "cell_type": "markdown",
      "id": "69838d96",
      "metadata": {},
      "source": []
    }
  ],
  "metadata": {
    "colab": {
      "provenance": []
    },
    "kernelspec": {
      "display_name": "base",
      "language": "python",
      "name": "python3"
    },
    "language_info": {
      "codemirror_mode": {
        "name": "ipython",
        "version": 3
      },
      "file_extension": ".py",
      "mimetype": "text/x-python",
      "name": "python",
      "nbconvert_exporter": "python",
      "pygments_lexer": "ipython3",
      "version": "3.12.7"
    }
  },
  "nbformat": 4,
  "nbformat_minor": 5
}
